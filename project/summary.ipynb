{
 "cells": [
  {
   "cell_type": "markdown",
   "metadata": {},
   "source": [
    "## Podsumowanie\n",
    "\n",
    "### Źródła\n",
    "\n",
    "### Przypisy\n",
    "\n",
    "### Autorzy\n",
    "\n",
    "Dominik Tomaszewski *260293*\n",
    "<br>\n",
    "Addam Winnik *...*"
   ]
  },
  {
   "cell_type": "code",
   "execution_count": null,
   "metadata": {},
   "outputs": [],
   "source": []
  }
 ],
 "metadata": {
  "language_info": {
   "name": "python"
  }
 },
 "nbformat": 4,
 "nbformat_minor": 2
}
