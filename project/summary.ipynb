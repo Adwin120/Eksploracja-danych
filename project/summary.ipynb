{
 "cells": [
  {
   "cell_type": "markdown",
   "metadata": {},
   "source": [
    "## Podsumowanie\n",
    "\n",
    "### Źródła\n",
    "- [**cellularLTEMeasurementsHighwayA60**](https://github.com/florianjomrich/cellularLTEMeasurementsHighwayA60/tree/master/Campaign3) - Dane pomiarowe, które zostały użyte do analizy, Jakob Florian Jomrich, 2020\n",
    "-  [**Enhanced Cellular Bandwidth Prediction for Highly Automated Driving**](https://sci-hub.st/https://link.springer.com/chapter/10.1007/978-3-030-26633-2_16) - Artykuł naukowy dotyczący zebranych danych, Jakob Florian Jomrich, 2020\n",
    "\n",
    "### Autorzy\n",
    "\n",
    "Dominik Tomaszewski *260293*\n",
    "<br>\n",
    "Addam Winnik *...*"
   ]
  },
  {
   "cell_type": "code",
   "execution_count": null,
   "metadata": {},
   "outputs": [],
   "source": []
  }
 ],
 "metadata": {
  "language_info": {
   "name": "python"
  }
 },
 "nbformat": 4,
 "nbformat_minor": 2
}
