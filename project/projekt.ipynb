{
 "cells": [
  {
   "cell_type": "markdown",
   "metadata": {},
   "source": [
    "# Eksploracja Danych - Projekt"
   ]
  },
  {
   "cell_type": "markdown",
   "metadata": {},
   "source": [
    "## Spis treści\n",
    "\n",
    "1. Zadanie - *logi ze sklepu internetowego*\n",
    "   \n",
    "2. [Eksploracyjna analiza danych](#2-eksploracyjna-analiza-danych)\n",
    "   1. Wstęp\n",
    "   2. Wykorzystane narzędzia\n",
    "3. [Metodologia CRISP-DM](crisp-dm.ipynb)\n",
    "   1. Zrozumienie biznesu\n",
    "   2. Zrozumienie danych\n",
    "   3. Przygotowanie danych\n",
    "   4. Modelowanie\n",
    "   5. Ewaluacja\n",
    "4. [Wdrożenie](implementation.ipynb)\n",
    "5. Prognozy parametrów\n",
    "   1.  przepustowości\n",
    "   2.  szybkości\n",
    "   3.  pakietów pobieranych\n",
    "   4.  pakietów wysyłanych\n",
    "6.  Prezentacja wyników\n",
    "7.  Analiza porównawcza algorytmów\n",
    "8.  [Wnioski](conclusions.ipynb)\n",
    "9.  [Podsumowanie](summary.ipynb)\n",
    "    1.  Źródła\n",
    "    2.  Przypisy \n",
    "    3.  Autorzy"
   ]
  },
  {
   "cell_type": "markdown",
   "metadata": {},
   "source": [
    "## 1. Zadanie - *logi ze sklepu internetowego*\n",
    "\n",
    "*opis*\n",
    "\n",
    "Czego dotyczą dane\n",
    "\n",
    "Co trzeba było uzupełnić\n",
    "\n",
    "Co trzeba było usunąć?\n",
    "\n",
    "Jakieś srednie i inne rzeczy"
   ]
  },
  {
   "cell_type": "markdown",
   "metadata": {},
   "source": [
    "## 2. Eksploracyjna analiza danych\n",
    "\n",
    "### 2.1 Wstęp\n",
    "\n",
    "Projekt dotyczy zbioru danych [**cellularLTEMeasurementsHighwayA60**](https://github.com/florianjomrich/cellularLTEMeasurementsHighwayA60/tree/master/Campaign3). Należy:\n",
    "- przeprowadzić analizę danych\n",
    "- zaproponować odpowiednie modele predykcji\n",
    "- wykonać prognozy parametrów dla pakietów przesyłanych i pobieranych\n",
    "- zaprezentować i porównać wyniki\n",
    "- przedstawić wnioski\n",
    "\n",
    "### 2.2 Wykorzystane narzędzia\n",
    "\n",
    "W projekcie wykorzystano język Python oraz biblioteki:\n",
    "- [pandas](https://pandas.pydata.org/) - biblioteka służąca do przetwarzania i analizy danych\n",
    "- [seaborn](https://seaborn.pydata.org/) - biblioteka do wizualizacji danych\n",
    "- [scikit-learn](https://scikit-learn.org/stable/index.html) - biblioteka do uczenia maszynowego"
   ]
  }
 ],
 "metadata": {
  "language_info": {
   "name": "python"
  }
 },
 "nbformat": 4,
 "nbformat_minor": 2
}
