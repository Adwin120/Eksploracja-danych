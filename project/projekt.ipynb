{
 "cells": [
  {
   "cell_type": "markdown",
   "metadata": {},
   "source": [
    "# Eksploracja Danych - Projekt"
   ]
  },
  {
   "cell_type": "markdown",
   "metadata": {},
   "source": [
    "## Spis treści\n",
    "\n",
    "1. Zadanie - *logi ze sklepu internetowego*\n",
    "2. Eksploracyjna analiza danych\n",
    "3. Metodologia CRISP-DM\n",
    "4. Zrozumienie biznesu\n",
    "5. Zrozumienie danych\n",
    "6. Przygotowanie danych\n",
    "7. Ocena\n",
    "8. Wdrożenie\n",
    "9. Prognozy parametrów\n",
    "   1.  przepustowości\n",
    "   2.  szybkości\n",
    "   3.  pakietów pobieranych\n",
    "   4.  pakietów wysyłanych\n",
    "10. Prezentacja wyników\n",
    "11. Analiza porównawcza algorytmów\n",
    "12. Wnioski"
   ]
  },
  {
   "cell_type": "code",
   "execution_count": null,
   "metadata": {},
   "outputs": [],
   "source": []
  },
  {
   "cell_type": "markdown",
   "metadata": {},
   "source": []
  }
 ],
 "metadata": {
  "language_info": {
   "name": "python"
  }
 },
 "nbformat": 4,
 "nbformat_minor": 2
}
