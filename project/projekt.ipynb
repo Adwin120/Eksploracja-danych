{
 "cells": [
  {
   "cell_type": "markdown",
   "metadata": {},
   "source": [
    "# Eksploracja Danych - Projekt"
   ]
  },
  {
   "cell_type": "markdown",
   "metadata": {},
   "source": [
    "## Spis treści\n",
    "\n",
    "1. Zadanie - *logi ze sklepu internetowego*\n",
    "2. Eksploracyjna analiza danych\n",
    "3. [Metodologia CRISP-DM](crisp-dm.ipynb)\n",
    "   1. Zrozumienie biznesu\n",
    "   2. Zrozumienie danych\n",
    "   3. Przygotowanie danych\n",
    "   4. Ocena\n",
    "4. Wdrożenie\n",
    "5. Prognozy parametrów\n",
    "   1.  przepustowości\n",
    "   2.  szybkości\n",
    "   3.  pakietów pobieranych\n",
    "   4.  pakietów wysyłanych\n",
    "6.  Prezentacja wyników\n",
    "7.  Analiza porównawcza algorytmów\n",
    "8.  Wnioski"
   ]
  }
 ],
 "metadata": {
  "language_info": {
   "name": "python"
  }
 },
 "nbformat": 4,
 "nbformat_minor": 2
}
