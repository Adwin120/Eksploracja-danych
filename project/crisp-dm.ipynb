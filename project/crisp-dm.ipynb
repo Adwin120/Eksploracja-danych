{
 "cells": [
  {
   "cell_type": "markdown",
   "metadata": {},
   "source": [
    "## 3. Metodologia CRISP-DM\n",
    "\n",
    "W projekcie wykorzystano metodologię CRISP-DM (Cross-Industry Standard Process for Data Mining), która jest szeroko stosowanym standardem procesowym w dziedzinie data mining i analizy danych. Składa się ona z sześciu głównych faz:\n",
    "\n",
    "1. **Zrozumienie Biznesu**:\n",
    "   - Definiowanie celów projektu z perspektywy biznesowej.\n",
    "   - Przekształcenie tych celów na zadania analityczne.\n",
    "\n",
    "2. **Zrozumienie Danych**:\n",
    "   - Zbieranie danych i początkowa ich diagnoza.\n",
    "   - Rozpoznawanie istotnych cech i pierwszych wzorców w danych.\n",
    "\n",
    "3. **Przygotowanie Danych**:\n",
    "   - Czyszczenie danych, selekcja cech, tworzenie nowych zmiennych.\n",
    "   - Konstruowanie finalnego zbioru danych do modelowania.\n",
    "\n",
    "4. **Modelowanie**:\n",
    "   - Wybór odpowiednich technik modelowania.\n",
    "   - Trenowanie modeli i dostrajanie ich parametrów.\n",
    "\n",
    "5. **Ewaluacja**:\n",
    "   - Ocena modeli pod kątem osiągania celów biznesowych.\n",
    "   - Decyzja o wdrożeniu modelu.\n",
    "\n",
    "6. **Wdrożenie**:\n",
    "   - Przetłumaczenie wyników modelowania na działania biznesowe.\n",
    "   - Monitorowanie i utrzymanie modeli w produkcji."
   ]
  },
  {
   "cell_type": "markdown",
   "metadata": {},
   "source": [
    "### 3.1 Zrozumienie biznesu\n",
    "\n",
    "Dane dotyczące projektu [**Enhanced Cellular Bandwidth Prediction for Highly Automated Driving**](https://sci-hub.st/https://link.springer.com/chapter/10.1007/978-3-030-26633-2_16) skupiają się na przewidywaniu przepustowości sieci komórkowej dla pojazdów zautomatyzowanych.\n",
    "\n",
    "Celem projektu jest poprawa bezpieczeństwa i komfortu podróży w pojazdach wysoko zautomatyzowanych przez zapewnienie niezawodnego i szybkiego połączenia internetowego.\n",
    "\n",
    "Wymagać to będzie przewidywania przepustowości sieci komórkowej w zależności od różnych czynników mogących wpływać na jakość połączenia."
   ]
  },
  {
   "cell_type": "markdown",
   "metadata": {},
   "source": [
    "### 3.2 Zrozumienie danych\n",
    "\n",
    "Dane pochodzą z pomiarów przeprowadzanych podczas rzeczywistych jazd testowych.\n",
    "\n",
    "Zbiór danych zawiera łącznie ok 50 000 - 100 000 rekordów dla poszczególnego usługodawcy sieci komórkowej.\n",
    "\n",
    "Rekordy zawierają informacje o czasie, lokalizacji, prędkości pojazdu, przepustowości sieci komórkowej, a także inne parametry, które mogą wpływać na jakość połączenia.\n",
    "\n",
    "Wszelkie informacje o danych, które mogą być przydatne w dalszej analizie, zostały opisane w rodziale [Zrozumienie Danych](data_understanding.ipynb).\n",
    "\n",
    "\n"
   ]
  },
  {
   "cell_type": "markdown",
   "metadata": {},
   "source": [
    "### 3.3 Przygotowywanie danych\n",
    "\n",
    "W tej fazie projektu nałożono normalizację danych, poprzez ustandaryzowanie danych. Zastosowanie zaprezentowano w notatniku [Funkcje](functions.ipynb)."
   ]
  },
  {
   "cell_type": "markdown",
   "metadata": {},
   "source": [
    "Kolejne fazy projektu są realizowane w kolejnych notatnikach."
   ]
  }
 ],
 "metadata": {
  "kernelspec": {
   "display_name": ".venv",
   "language": "python",
   "name": "python3"
  },
  "language_info": {
   "codemirror_mode": {
    "name": "ipython",
    "version": 3
   },
   "file_extension": ".py",
   "mimetype": "text/x-python",
   "name": "python",
   "nbconvert_exporter": "python",
   "pygments_lexer": "ipython3",
   "version": "3.12.1"
  }
 },
 "nbformat": 4,
 "nbformat_minor": 2
}
