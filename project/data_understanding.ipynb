{
 "cells": [
  {
   "cell_type": "markdown",
   "metadata": {},
   "source": [
    "## Pobieranie\n",
    "Dane dotyczące pobierania podczas transmisji danych.\n",
    "\n",
    "| Numer | Nazwa | Opis |\n",
    "| --- | ---------- | ----------- |\n",
    "| 1 | chipsettime | Czas, kiedy dane zostały zarejestrowane przez chipset. (czas uniksowy) |\n",
    "| 2 | cellid | Identyfikator stacji bazowej komórki obsługującej urządzenie. |\n",
    "| 3 | mcs0 | Nazwa *Modulation and Coding Scheme* (MCS) dla strumienia danych 0 |\n",
    "| 4 | mcs1 | Nazwa *Modulation and Coding Scheme* (MCS) dla strumienia danych 1 |\n",
    "| 5 | mcsindex | Indeks reprezentujący ogólnie użytą strategię MCS (0 i 1) |\n",
    "| 6 | tbs0 | Rozmiar Bloku Transportowego (TBS) dla strumienia danych 0. |\n",
    "| 7 | tbs1 | Rozmiar Bloku Transportowego (TBS) dla strumienia danych 1. |\n",
    "| 8 | mimo | Wskaźnik wykorzystania Multiple-Input Multiple-Output (MIMO). |\n",
    "| 9 | rnti | Tymczasowy Identyfikator Sieci Radiowej, używany do identyfikacji UE (Urządzenia Użytkownika) w obrębie komórki. |\n",
    "| 10 | throughput | Rzeczywista osiągnięta prędkość przesyłu danych. |\n",
    "| 11 | rb0, rb1 | Bloki zasobów (RB) przydzielone dla strumienia danych 0. |\n",
    "| 12 | rb1 | Bloki zasobów (RB) przydzielone dla strumienia 1. |\n",
    "| 13 | tp_cleaned | Wyczyszczona wartość przepustowości (prawdopodobnie przetworzona lub przefiltrowana). |\n",
    "| 14 | scc | Indeks Drugiego Nośnika Składowego, jeśli jest zastosowany. |\n",
    "| 15 | caindex | Indeks Agregacji Kanałów, wskazujący liczbę agregowanych nośników składowych. |\n",
    "| 16 | gpstime | Czas na urządzeniu GPS, kiedy dane zostały zarejestrowane (czas uniksowy). |\n",
    "| 17 | longitude, latitude | Współrzędne geograficzne położenia urządzenia. |\n",
    "| 18 | speed | Prędkość poruszania się urządzenia. |\n",
    "| 19 | rsrq | Jakość Odebranego Sygnału Referencyjnego, miara jakości odebranego sygnału. |\n",
    "| 20 | rsrp | Moc Odebranego Sygnału Referencyjnego, wskazująca siłę odebranego sygnału. |\n",
    "| 21 | rssi | Wskaźnik Siły Sygnału Odebranego, inna miara siły sygnału. |\n",
    "| 22 | earfcn | Numer Kanału Absolutnej Częstotliwości Radiowej E-UTRA, wskazujący częstotliwość nośnika. (wartości 1600 lub 6200) |\n",
    "| 23 | cqi | Wskaźnik Jakości Kanału, dostarczający informacje o jakości kanału. (liczby całkowite od 1 do 15) |"
   ]
  },
  {
   "cell_type": "markdown",
   "metadata": {},
   "source": [
    "# Przesyłanie\n",
    "Dane dotyczące pobierania podczas transmisji danych.\n",
    "\n",
    "| Numer | Nazwa | Opis |\n",
    "| --- | ---------- | ----------- |\n",
    "| 1 | qualitytimestamp | Czas, kiedy dane zostały zarejestrowane (czas uniksowy). |\n",
    "| 2 | cellid | Identyfikator stacji bazowej komórki obsługującej urządzenie. |\n",
    "| 3 | mcsindex | Indeks reprezentujący używany *Modulation and Coding Scheme* (MCS) |\n",
    "| 4 | tbs | Rozmiar Bloku Transportowego (TBS) dla przesyłania. |\n",
    "| 5 | rbs | Rozmiar Bloku Zasobów (RBS) przydzielony dla przesyłania. |\n",
    "| 6 | tp_cleaned | Wyczyszczona wartość przepustowości (prawdopodobnie przetworzona lub przefiltrowana). |\n",
    "| 7 | gpstime | Czas na urządzeniu GPS, kiedy dane zostały zarejestrowane.(czas uniksowy) |\n",
    "| 8 | longitude, latitude | Współrzędne geograficzne położenia urządzenia. |\n",
    "| 9 | speed | Prędkość poruszania się urządzenia. |\n",
    "| 10 | rsrq | Jakość Sygnału Odebranego Sygnału Referencyjnego, miara jakości odebranego sygnału. |\n",
    "| 11 | rsrp | Moc Sygnału Odebranego Sygnału Referencyjnego, wskazująca siłę odebranego sygnału. |\n",
    "| 12 | rssi | Wskaźnik Siły Sygnału Odebranego, inna miara siły sygnału. |\n",
    "| 13 | earfcn | Numer Kanału Absolutnej Częstotliwości Radiowej E-UTRA, wskazujący częstotliwość nośnika. |\n",
    "| 14 | cqi | Wskaźnik Jakości Kanału, dostarczający informacje o jakości kanału. |"
   ]
  }
 ],
 "metadata": {
  "language_info": {
   "name": "python"
  }
 },
 "nbformat": 4,
 "nbformat_minor": 2
}
